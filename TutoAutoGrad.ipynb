{
  "nbformat": 4,
  "nbformat_minor": 0,
  "metadata": {
    "colab": {
      "name": "TutoAutoGrad.ipynb",
      "version": "0.3.2",
      "provenance": [],
      "collapsed_sections": [],
      "include_colab_link": true
    },
    "kernelspec": {
      "name": "python3",
      "display_name": "Python 3"
    }
  },
  "cells": [
    {
      "cell_type": "markdown",
      "metadata": {
        "id": "view-in-github",
        "colab_type": "text"
      },
      "source": [
        "<a href=\"https://colab.research.google.com/github/jmamath/Ressources/blob/master/TutoAutoGrad.ipynb\" target=\"_parent\"><img src=\"https://colab.research.google.com/assets/colab-badge.svg\" alt=\"Open In Colab\"/></a>"
      ]
    },
    {
      "cell_type": "markdown",
      "metadata": {
        "id": "rUcRXOdwwin-",
        "colab_type": "text"
      },
      "source": [
        "# Introduction à la différentiation automatique"
      ]
    },
    {
      "cell_type": "markdown",
      "metadata": {
        "id": "LnzDMT2pw12X",
        "colab_type": "text"
      },
      "source": [
        "Google Colab, est un outil permettant d'exécuter des cellules de code Python. L'avantage est que la plupart des librairies pour faire du traitement de données sont déjà installés. C'est donc intéressant pour faire des analyses en lignes et les partager sans avoir eu besoin d'installer soi même les outils sur une machine locale. Par exemple, on veux générer quelques données dont on se servira pour illustrer les réseaux résiduels et les réseaux continus. Pour cela on importe deux librairies, `numpy` pour effectuer des opérations d'algèbre linéaire en parallèle sur le CPU, et `matplotilb` pour tracer les fonctions. Pour éxécuter une cellule de code: cliquez sur la cellule, et appuyez sur `shift`+`enter`."
      ]
    },
    {
      "cell_type": "code",
      "metadata": {
        "id": "HR7Rpbc1xfdV",
        "colab_type": "code",
        "colab": {}
      },
      "source": [
        "import matplotlib.pyplot as plt\n",
        "import numpy as np"
      ],
      "execution_count": 0,
      "outputs": []
    },
    {
      "cell_type": "markdown",
      "metadata": {
        "id": "_uQlmZr_0YwC",
        "colab_type": "text"
      },
      "source": [
        "## Différentiation automatique avec Pytorch"
      ]
    },
    {
      "cell_type": "markdown",
      "metadata": {
        "id": "wp7Ivio2yYNK",
        "colab_type": "text"
      },
      "source": [
        "Pour pouvoir apprendre, nous aurons besoin d'une librairie permettant la différentiation automatique. On va utiliser Pytorch, qui est une distribution open source, soutenu par Facebook notamment."
      ]
    },
    {
      "cell_type": "code",
      "metadata": {
        "id": "x9UsdY1yzKrJ",
        "colab_type": "code",
        "colab": {}
      },
      "source": [
        "import torch\n",
        "import torch.nn as nn\n",
        "import torch.nn.functional as F\n",
        "from torch import autograd"
      ],
      "execution_count": 0,
      "outputs": []
    },
    {
      "cell_type": "markdown",
      "metadata": {
        "id": "s6qTAjlpzYkD",
        "colab_type": "text"
      },
      "source": [
        "Le cœur de l'apprentissage profond est la différentiation automatique, on va l'illustrer avec le module `autograd`. En calculant les dérivées de polynomes usuels $p_{2}(x) = x^{2}, \\, p_{3}(x) = x^{3}$"
      ]
    },
    {
      "cell_type": "code",
      "metadata": {
        "id": "smHg-mdO0Ch4",
        "colab_type": "code",
        "colab": {}
      },
      "source": [
        "p2 = np.power(x,2)\n",
        "p3 = np.power(x,3)"
      ],
      "execution_count": 0,
      "outputs": []
    },
    {
      "cell_type": "code",
      "metadata": {
        "id": "WCpoLGVT0nD_",
        "colab_type": "code",
        "colab": {
          "base_uri": "https://localhost:8080/",
          "height": 287
        },
        "outputId": "713b3615-11f0-4af4-f3ce-aef2c4d7b4c8"
      },
      "source": [
        "plt.plot(x,p2,label='p2')\n",
        "plt.legend()"
      ],
      "execution_count": 9,
      "outputs": [
        {
          "output_type": "execute_result",
          "data": {
            "text/plain": [
              "<matplotlib.legend.Legend at 0x7f408e062c18>"
            ]
          },
          "metadata": {
            "tags": []
          },
          "execution_count": 9
        },
        {
          "output_type": "display_data",
          "data": {
            "image/png": "[encoded data removed]",
            "text/plain": [
              "<Figure size 432x288 with 1 Axes>"
            ]
          },
          "metadata": {
            "tags": []
          }
        }
      ]
    },
    {
      "cell_type": "code",
      "metadata": {
        "id": "niTHty-q09c3",
        "colab_type": "code",
        "colab": {
          "base_uri": "https://localhost:8080/",
          "height": 287
        },
        "outputId": "40e18177-c1f2-4bc5-d87d-1b85463f543a"
      },
      "source": [
        "plt.plot(x,p3,label='p3')\n",
        "plt.legend()"
      ],
      "execution_count": 10,
      "outputs": [
        {
          "output_type": "execute_result",
          "data": {
            "text/plain": [
              "<matplotlib.legend.Legend at 0x7f408e04ae10>"
            ]
          },
          "metadata": {
            "tags": []
          },
          "execution_count": 10
        },
        {
          "output_type": "display_data",
          "data": {
            "image/png": "[encoded data removed]",
            "text/plain": [
              "<Figure size 432x288 with 1 Axes>"
            ]
          },
          "metadata": {
            "tags": []
          }
        }
      ]
    },
    {
      "cell_type": "markdown",
      "metadata": {
        "id": "R9Q1j2bL1YH1",
        "colab_type": "text"
      },
      "source": [
        "Les dérivées analytiques sont $\\dot p_{2}(x) = 2x$ et $\\dot p_{3}(x) = 3x^{2}$."
      ]
    },
    {
      "cell_type": "code",
      "metadata": {
        "id": "GP5Vdu5g11fr",
        "colab_type": "code",
        "colab": {}
      },
      "source": [
        "dp2 = 2*x\n",
        "dp3 = 3*np.power(x,2)"
      ],
      "execution_count": 0,
      "outputs": []
    },
    {
      "cell_type": "markdown",
      "metadata": {
        "id": "-sK1-Rkk2Mpo",
        "colab_type": "text"
      },
      "source": [
        "Maintenant calculont les dérivées automatiquement et comparons les aux fonctions définies ci-dessus. Pour cela, il faudra stocker toutes les données en utilisant des tenseurs de pytorch. Pytorch permet d'effectuer les calculs directement sur un GPU d'il y en a un de disponible. En réalité, torch va suivre le flot de calculs avec un graphe, et stocker toutes les opérations effectuées sur ses tenseurs. Si on veut pouvoir différentier par rapport à un tenseur on q besoin de spécifer `requires_grad=True`. En effet cela coûte de la mémoire."
      ]
    },
    {
      "cell_type": "code",
      "metadata": {
        "id": "ILeUptig6ICp",
        "colab_type": "code",
        "colab": {}
      },
      "source": [
        "x_ = torch.tensor(x,requires_grad=True)\n",
        "p2_ = torch.pow(x_,2)\n",
        "p3_ = torch.pow(x_,3)"
      ],
      "execution_count": 0,
      "outputs": []
    },
    {
      "cell_type": "markdown",
      "metadata": {
        "id": "BzM7pSqX6-8R",
        "colab_type": "text"
      },
      "source": [
        "On peut consulter les dimensions de nos tenseurs avec le mot clé `shape`"
      ]
    },
    {
      "cell_type": "code",
      "metadata": {
        "id": "8skeWrPR7UQq",
        "colab_type": "code",
        "colab": {
          "base_uri": "https://localhost:8080/",
          "height": 35
        },
        "outputId": "474522be-32fd-4a3d-82bc-559031faeb52"
      },
      "source": [
        "p3_.shape"
      ],
      "execution_count": 40,
      "outputs": [
        {
          "output_type": "execute_result",
          "data": {
            "text/plain": [
              "torch.Size([100, 1])"
            ]
          },
          "metadata": {
            "tags": []
          },
          "execution_count": 40
        }
      ]
    },
    {
      "cell_type": "markdown",
      "metadata": {
        "id": "W3EkJIsg7cab",
        "colab_type": "text"
      },
      "source": [
        "L'accès aux éléments se fait comme pour les listes. Donc, pour avoir accès aux cinq premiers éléments on éxécute comme suit:"
      ]
    },
    {
      "cell_type": "code",
      "metadata": {
        "id": "nvrfQdIs7igP",
        "colab_type": "code",
        "colab": {
          "base_uri": "https://localhost:8080/",
          "height": 105
        },
        "outputId": "0202e0d7-28cd-439d-96b2-c0a3b4a2db18"
      },
      "source": [
        "x_[:5]"
      ],
      "execution_count": 41,
      "outputs": [
        {
          "output_type": "execute_result",
          "data": {
            "text/plain": [
              "tensor([[-10.0000],\n",
              "        [ -9.7980],\n",
              "        [ -9.5960],\n",
              "        [ -9.3939],\n",
              "        [ -9.1919]], dtype=torch.float64, grad_fn=<SliceBackward>)"
            ]
          },
          "metadata": {
            "tags": []
          },
          "execution_count": 41
        }
      ]
    },
    {
      "cell_type": "markdown",
      "metadata": {
        "id": "GyDjtjgx7xzS",
        "colab_type": "text"
      },
      "source": [
        "Vous l'aurez compris les représentations de $X$ et $p_{2}$ sont tensorielles, i.e $X= \\{x^{(i)}\\}_{i=1}^{100},\\, p_{2}= \\{p_{2}^{(i)}\\}_{i=1}^{100}$. Donc en réalité sous le capot la différentiation se déroule comme cela:\n",
        "$\n",
        "Dp_{2}(x) \\cdot h = \n",
        "\\langle\\frac{dp_{2}(x)}{dx},h\\rangle \n",
        "$. Avec $\\langle \\cdot,\\cdot\\rangle$ le produit scalaire usuel.\n",
        "La différentielle doit être appliquée à un vecteur. On choisit  $ h= \\{1 \\}_{i=1}^{100}$"
      ]
    },
    {
      "cell_type": "code",
      "metadata": {
        "id": "EvwJWZI32UH5",
        "colab_type": "code",
        "colab": {}
      },
      "source": [
        "ones = torch.ones((100,1),dtype=torch.double)\n",
        "dp2_ = autograd.grad(p2_,x_,ones)[0]\n",
        "dp3_ = autograd.grad(p3_,x_,ones)[0]"
      ],
      "execution_count": 0,
      "outputs": []
    },
    {
      "cell_type": "markdown",
      "metadata": {
        "id": "z5M3eqZVAjVm",
        "colab_type": "text"
      },
      "source": [
        "Pour tracer, revenons transformons les tenseurs de torch à numpy. On va tracer en pointillés les dérivés automatiques, et en continus les versions analytitiques "
      ]
    },
    {
      "cell_type": "code",
      "metadata": {
        "id": "UwH-H5yK3LSG",
        "colab_type": "code",
        "colab": {}
      },
      "source": [
        "dp2_ = dp2_.detach().numpy()\n",
        "dp3_ = dp3_.detach().numpy()"
      ],
      "execution_count": 0,
      "outputs": []
    },
    {
      "cell_type": "code",
      "metadata": {
        "id": "Vbv8rYI9BBZV",
        "colab_type": "code",
        "colab": {
          "base_uri": "https://localhost:8080/",
          "height": 287
        },
        "outputId": "90b3509b-c9c0-461b-f406-92261394d5fe"
      },
      "source": [
        "plt.plot(x,dp2, label='analytic')\n",
        "plt.plot(x,dp2_,'.',label='automatic')\n",
        "plt.legend()"
      ],
      "execution_count": 64,
      "outputs": [
        {
          "output_type": "execute_result",
          "data": {
            "text/plain": [
              "<matplotlib.legend.Legend at 0x7f408caebe10>"
            ]
          },
          "metadata": {
            "tags": []
          },
          "execution_count": 64
        },
        {
          "output_type": "display_data",
          "data": {
            "image/png": "[encoded data removed]",
            "text/plain": [
              "<Figure size 432x288 with 1 Axes>"
            ]
          },
          "metadata": {
            "tags": []
          }
        }
      ]
    },
    {
      "cell_type": "code",
      "metadata": {
        "id": "nI0OkMUcBuMN",
        "colab_type": "code",
        "colab": {
          "base_uri": "https://localhost:8080/",
          "height": 287
        },
        "outputId": "4619e9a2-ee2f-46ce-9687-3938e7e08d5a"
      },
      "source": [
        "plt.plot(x,dp3, label='analytic')\n",
        "plt.plot(x,dp3_,'.',label='automatic')\n",
        "plt.legend()"
      ],
      "execution_count": 65,
      "outputs": [
        {
          "output_type": "execute_result",
          "data": {
            "text/plain": [
              "<matplotlib.legend.Legend at 0x7f408ca63b38>"
            ]
          },
          "metadata": {
            "tags": []
          },
          "execution_count": 65
        },
        {
          "output_type": "display_data",
          "data": {
            "image/png": "[encoded data removed]",
            "text/plain": [
              "<Figure size 432x288 with 1 Axes>"
            ]
          },
          "metadata": {
            "tags": []
          }
        }
      ]
    },
    {
      "cell_type": "markdown",
      "metadata": {
        "id": "THNVWzgrMS0G",
        "colab_type": "text"
      },
      "source": [
        "Voilà, on a terminé, maintenant on sait comment différentier des fonctions simples avec pytorch."
      ]
    },
    {
      "cell_type": "code",
      "metadata": {
        "id": "GDoGyDUMwqox",
        "colab_type": "code",
        "colab": {}
      },
      "source": [
        ""
      ],
      "execution_count": 0,
      "outputs": []
    }
  ]
}